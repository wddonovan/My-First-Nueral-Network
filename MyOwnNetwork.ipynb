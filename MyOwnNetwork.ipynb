{
  "nbformat": 4,
  "nbformat_minor": 0,
  "metadata": {
    "colab": {
      "name": "MyOwnNetwork.ipynb",
      "provenance": [],
      "include_colab_link": true
    },
    "kernelspec": {
      "name": "python3",
      "display_name": "Python 3"
    }
  },
  "cells": [
    {
      "cell_type": "markdown",
      "metadata": {
        "id": "view-in-github",
        "colab_type": "text"
      },
      "source": [
        "<a href=\"https://colab.research.google.com/github/wddonovan/My-First-Nueral-Network/blob/master/MyOwnNetwork.ipynb\" target=\"_parent\"><img src=\"https://colab.research.google.com/assets/colab-badge.svg\" alt=\"Open In Colab\"/></a>"
      ]
    },
    {
      "cell_type": "code",
      "metadata": {
        "id": "s4IQ26uSbWzM",
        "colab_type": "code",
        "colab": {}
      },
      "source": [
        "import numpy as np\n",
        "from numpy import random\n",
        "class Nueral Network:\n",
        "  \n",
        "  def initiate(self,x,y):\n",
        "    self.input = x\n",
        "    self.weight1 = np.random.rand(self.input.shape[1],4)\n",
        "    self.weight2 = np.random.rand(4,1)\n",
        "    self.y = y\n",
        "    self.output = np.zeros(y.shape)\n",
        "  def feedforward(self)\n",
        "    self.layer1 = sigmoid(np.dot(self.input, self.weight1))\n",
        "    self.layer2 = sigmoid(np.dot(self.input, self.weight2))\n",
        "  def backprop(self):\n",
        "        # application of the chain rule to find derivative of the loss function with respect to weights2 and weights1\n",
        "    d_weights2 = np.dot(self.layer1.T, (2*(self.y - self.output) * sigmoid_derivative(self.output)))\n",
        "    d_weights1 = np.dot(self.input.T,  (np.dot(2*(self.y - self.output) * sigmoid_derivative(self.output), self.weights2.T) * sigmoid_derivative(self.layer1)))\n",
        "\n",
        "        # update the weights with the derivative (slope) of the loss function\n",
        "    self.weights1 += d_weights1\n",
        "    self.weights2 += d_weights2"
      ],
      "execution_count": 0,
      "outputs": []
    }
  ]
}